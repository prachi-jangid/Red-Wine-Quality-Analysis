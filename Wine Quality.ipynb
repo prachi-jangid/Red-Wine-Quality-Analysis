{
 "cells": [
  {
   "cell_type": "code",
   "execution_count": 1,
   "metadata": {
    "executionInfo": {
     "elapsed": 3161,
     "status": "ok",
     "timestamp": 1613061379957,
     "user": {
      "displayName": "Prachi Jangid",
      "photoUrl": "https://lh3.googleusercontent.com/a-/AOh14GhbazLHFNE2ajGyppybdvtWjxBFDCBaMqXnens77Q=s64",
      "userId": "15820967290041903216"
     },
     "user_tz": -330
    },
    "id": "9rYB2E07uint"
   },
   "outputs": [],
   "source": [
    "import numpy as np\n",
    "import matplotlib.pyplot as mpl\n",
    "import pandas as pd\n",
    "import seaborn as sb\n",
    "import plotly.express as px"
   ]
  },
  {
   "cell_type": "code",
   "execution_count": 2,
   "metadata": {
    "colab": {
     "base_uri": "https://localhost:8080/",
     "height": 1000
    },
    "executionInfo": {
     "elapsed": 3775,
     "status": "error",
     "timestamp": 1613061384080,
     "user": {
      "displayName": "Prachi Jangid",
      "photoUrl": "https://lh3.googleusercontent.com/a-/AOh14GhbazLHFNE2ajGyppybdvtWjxBFDCBaMqXnens77Q=s64",
      "userId": "15820967290041903216"
     },
     "user_tz": -330
    },
    "id": "C1iFP6wQw7_0",
    "outputId": "bc686817-a003-4351-a6c5-f8d6d6133f89"
   },
   "outputs": [],
   "source": [
    "Df=pd.read_csv(\"C:/Users/hp/Desktop/winequality-red.csv\")"
   ]
  },
  {
   "cell_type": "code",
   "execution_count": 3,
   "metadata": {
    "colab": {
     "base_uri": "https://localhost:8080/",
     "height": 441
    },
    "executionInfo": {
     "elapsed": 2377,
     "status": "error",
     "timestamp": 1613061384088,
     "user": {
      "displayName": "Prachi Jangid",
      "photoUrl": "https://lh3.googleusercontent.com/a-/AOh14GhbazLHFNE2ajGyppybdvtWjxBFDCBaMqXnens77Q=s64",
      "userId": "15820967290041903216"
     },
     "user_tz": -330
    },
    "id": "lzn3-X_xypAF",
    "outputId": "755b4715-08b7-41b3-e7ba-34be2238b482"
   },
   "outputs": [
    {
     "data": {
      "text/html": [
       "<div>\n",
       "<style scoped>\n",
       "    .dataframe tbody tr th:only-of-type {\n",
       "        vertical-align: middle;\n",
       "    }\n",
       "\n",
       "    .dataframe tbody tr th {\n",
       "        vertical-align: top;\n",
       "    }\n",
       "\n",
       "    .dataframe thead th {\n",
       "        text-align: right;\n",
       "    }\n",
       "</style>\n",
       "<table border=\"1\" class=\"dataframe\">\n",
       "  <thead>\n",
       "    <tr style=\"text-align: right;\">\n",
       "      <th></th>\n",
       "      <th>fixed acidity</th>\n",
       "      <th>volatile acidity</th>\n",
       "      <th>citric acid</th>\n",
       "      <th>residual sugar</th>\n",
       "      <th>chlorides</th>\n",
       "      <th>free sulfur dioxide</th>\n",
       "      <th>total sulfur dioxide</th>\n",
       "      <th>density</th>\n",
       "      <th>pH</th>\n",
       "      <th>sulphates</th>\n",
       "      <th>alcohol</th>\n",
       "      <th>quality</th>\n",
       "    </tr>\n",
       "  </thead>\n",
       "  <tbody>\n",
       "    <tr>\n",
       "      <th>0</th>\n",
       "      <td>7.4</td>\n",
       "      <td>0.70</td>\n",
       "      <td>0.00</td>\n",
       "      <td>1.9</td>\n",
       "      <td>0.076</td>\n",
       "      <td>11.0</td>\n",
       "      <td>34.0</td>\n",
       "      <td>0.9978</td>\n",
       "      <td>3.51</td>\n",
       "      <td>0.56</td>\n",
       "      <td>9.4</td>\n",
       "      <td>5</td>\n",
       "    </tr>\n",
       "    <tr>\n",
       "      <th>1</th>\n",
       "      <td>7.8</td>\n",
       "      <td>0.88</td>\n",
       "      <td>0.00</td>\n",
       "      <td>2.6</td>\n",
       "      <td>0.098</td>\n",
       "      <td>25.0</td>\n",
       "      <td>67.0</td>\n",
       "      <td>0.9968</td>\n",
       "      <td>3.20</td>\n",
       "      <td>0.68</td>\n",
       "      <td>9.8</td>\n",
       "      <td>5</td>\n",
       "    </tr>\n",
       "    <tr>\n",
       "      <th>2</th>\n",
       "      <td>7.8</td>\n",
       "      <td>0.76</td>\n",
       "      <td>0.04</td>\n",
       "      <td>2.3</td>\n",
       "      <td>0.092</td>\n",
       "      <td>15.0</td>\n",
       "      <td>54.0</td>\n",
       "      <td>0.9970</td>\n",
       "      <td>3.26</td>\n",
       "      <td>0.65</td>\n",
       "      <td>9.8</td>\n",
       "      <td>5</td>\n",
       "    </tr>\n",
       "    <tr>\n",
       "      <th>3</th>\n",
       "      <td>11.2</td>\n",
       "      <td>0.28</td>\n",
       "      <td>0.56</td>\n",
       "      <td>1.9</td>\n",
       "      <td>0.075</td>\n",
       "      <td>17.0</td>\n",
       "      <td>60.0</td>\n",
       "      <td>0.9980</td>\n",
       "      <td>3.16</td>\n",
       "      <td>0.58</td>\n",
       "      <td>9.8</td>\n",
       "      <td>6</td>\n",
       "    </tr>\n",
       "    <tr>\n",
       "      <th>4</th>\n",
       "      <td>7.4</td>\n",
       "      <td>0.70</td>\n",
       "      <td>0.00</td>\n",
       "      <td>1.9</td>\n",
       "      <td>0.076</td>\n",
       "      <td>11.0</td>\n",
       "      <td>34.0</td>\n",
       "      <td>0.9978</td>\n",
       "      <td>3.51</td>\n",
       "      <td>0.56</td>\n",
       "      <td>9.4</td>\n",
       "      <td>5</td>\n",
       "    </tr>\n",
       "  </tbody>\n",
       "</table>\n",
       "</div>"
      ],
      "text/plain": [
       "   fixed acidity  volatile acidity  citric acid  residual sugar  chlorides  \\\n",
       "0            7.4              0.70         0.00             1.9      0.076   \n",
       "1            7.8              0.88         0.00             2.6      0.098   \n",
       "2            7.8              0.76         0.04             2.3      0.092   \n",
       "3           11.2              0.28         0.56             1.9      0.075   \n",
       "4            7.4              0.70         0.00             1.9      0.076   \n",
       "\n",
       "   free sulfur dioxide  total sulfur dioxide  density    pH  sulphates  \\\n",
       "0                 11.0                  34.0   0.9978  3.51       0.56   \n",
       "1                 25.0                  67.0   0.9968  3.20       0.68   \n",
       "2                 15.0                  54.0   0.9970  3.26       0.65   \n",
       "3                 17.0                  60.0   0.9980  3.16       0.58   \n",
       "4                 11.0                  34.0   0.9978  3.51       0.56   \n",
       "\n",
       "   alcohol  quality  \n",
       "0      9.4        5  \n",
       "1      9.8        5  \n",
       "2      9.8        5  \n",
       "3      9.8        6  \n",
       "4      9.4        5  "
      ]
     },
     "execution_count": 3,
     "metadata": {},
     "output_type": "execute_result"
    }
   ],
   "source": [
    "Df.head()\n",
    "# See the first five rows of the dataset"
   ]
  },
  {
   "cell_type": "code",
   "execution_count": 4,
   "metadata": {
    "id": "iPy9ir2N8p3k"
   },
   "outputs": [
    {
     "data": {
      "text/html": [
       "<div>\n",
       "<style scoped>\n",
       "    .dataframe tbody tr th:only-of-type {\n",
       "        vertical-align: middle;\n",
       "    }\n",
       "\n",
       "    .dataframe tbody tr th {\n",
       "        vertical-align: top;\n",
       "    }\n",
       "\n",
       "    .dataframe thead th {\n",
       "        text-align: right;\n",
       "    }\n",
       "</style>\n",
       "<table border=\"1\" class=\"dataframe\">\n",
       "  <thead>\n",
       "    <tr style=\"text-align: right;\">\n",
       "      <th></th>\n",
       "      <th>fixed acidity</th>\n",
       "      <th>volatile acidity</th>\n",
       "      <th>citric acid</th>\n",
       "      <th>residual sugar</th>\n",
       "      <th>chlorides</th>\n",
       "      <th>free sulfur dioxide</th>\n",
       "      <th>total sulfur dioxide</th>\n",
       "      <th>density</th>\n",
       "      <th>pH</th>\n",
       "      <th>sulphates</th>\n",
       "      <th>alcohol</th>\n",
       "      <th>quality</th>\n",
       "    </tr>\n",
       "  </thead>\n",
       "  <tbody>\n",
       "    <tr>\n",
       "      <th>1594</th>\n",
       "      <td>6.2</td>\n",
       "      <td>0.600</td>\n",
       "      <td>0.08</td>\n",
       "      <td>2.0</td>\n",
       "      <td>0.090</td>\n",
       "      <td>32.0</td>\n",
       "      <td>44.0</td>\n",
       "      <td>0.99490</td>\n",
       "      <td>3.45</td>\n",
       "      <td>0.58</td>\n",
       "      <td>10.5</td>\n",
       "      <td>5</td>\n",
       "    </tr>\n",
       "    <tr>\n",
       "      <th>1595</th>\n",
       "      <td>5.9</td>\n",
       "      <td>0.550</td>\n",
       "      <td>0.10</td>\n",
       "      <td>2.2</td>\n",
       "      <td>0.062</td>\n",
       "      <td>39.0</td>\n",
       "      <td>51.0</td>\n",
       "      <td>0.99512</td>\n",
       "      <td>3.52</td>\n",
       "      <td>0.76</td>\n",
       "      <td>11.2</td>\n",
       "      <td>6</td>\n",
       "    </tr>\n",
       "    <tr>\n",
       "      <th>1596</th>\n",
       "      <td>6.3</td>\n",
       "      <td>0.510</td>\n",
       "      <td>0.13</td>\n",
       "      <td>2.3</td>\n",
       "      <td>0.076</td>\n",
       "      <td>29.0</td>\n",
       "      <td>40.0</td>\n",
       "      <td>0.99574</td>\n",
       "      <td>3.42</td>\n",
       "      <td>0.75</td>\n",
       "      <td>11.0</td>\n",
       "      <td>6</td>\n",
       "    </tr>\n",
       "    <tr>\n",
       "      <th>1597</th>\n",
       "      <td>5.9</td>\n",
       "      <td>0.645</td>\n",
       "      <td>0.12</td>\n",
       "      <td>2.0</td>\n",
       "      <td>0.075</td>\n",
       "      <td>32.0</td>\n",
       "      <td>44.0</td>\n",
       "      <td>0.99547</td>\n",
       "      <td>3.57</td>\n",
       "      <td>0.71</td>\n",
       "      <td>10.2</td>\n",
       "      <td>5</td>\n",
       "    </tr>\n",
       "    <tr>\n",
       "      <th>1598</th>\n",
       "      <td>6.0</td>\n",
       "      <td>0.310</td>\n",
       "      <td>0.47</td>\n",
       "      <td>3.6</td>\n",
       "      <td>0.067</td>\n",
       "      <td>18.0</td>\n",
       "      <td>42.0</td>\n",
       "      <td>0.99549</td>\n",
       "      <td>3.39</td>\n",
       "      <td>0.66</td>\n",
       "      <td>11.0</td>\n",
       "      <td>6</td>\n",
       "    </tr>\n",
       "  </tbody>\n",
       "</table>\n",
       "</div>"
      ],
      "text/plain": [
       "      fixed acidity  volatile acidity  citric acid  residual sugar  chlorides  \\\n",
       "1594            6.2             0.600         0.08             2.0      0.090   \n",
       "1595            5.9             0.550         0.10             2.2      0.062   \n",
       "1596            6.3             0.510         0.13             2.3      0.076   \n",
       "1597            5.9             0.645         0.12             2.0      0.075   \n",
       "1598            6.0             0.310         0.47             3.6      0.067   \n",
       "\n",
       "      free sulfur dioxide  total sulfur dioxide  density    pH  sulphates  \\\n",
       "1594                 32.0                  44.0  0.99490  3.45       0.58   \n",
       "1595                 39.0                  51.0  0.99512  3.52       0.76   \n",
       "1596                 29.0                  40.0  0.99574  3.42       0.75   \n",
       "1597                 32.0                  44.0  0.99547  3.57       0.71   \n",
       "1598                 18.0                  42.0  0.99549  3.39       0.66   \n",
       "\n",
       "      alcohol  quality  \n",
       "1594     10.5        5  \n",
       "1595     11.2        6  \n",
       "1596     11.0        6  \n",
       "1597     10.2        5  \n",
       "1598     11.0        6  "
      ]
     },
     "execution_count": 4,
     "metadata": {},
     "output_type": "execute_result"
    }
   ],
   "source": [
    "Df.tail()"
   ]
  },
  {
   "cell_type": "code",
   "execution_count": 5,
   "metadata": {
    "colab": {
     "base_uri": "https://localhost:8080/",
     "height": 35
    },
    "executionInfo": {
     "elapsed": 2569,
     "status": "ok",
     "timestamp": 1602308655816,
     "user": {
      "displayName": "Barkha Verma",
      "photoUrl": "",
      "userId": "05873071836640075999"
     },
     "user_tz": -330
    },
    "id": "8qT5z7nkz2jo",
    "outputId": "0ed58bce-06f4-45d0-8073-d8e177913ae1"
   },
   "outputs": [
    {
     "name": "stdout",
     "output_type": "stream",
     "text": [
      "Rows, columns: (1599, 12)\n"
     ]
    }
   ],
   "source": [
    "print(\"Rows, columns: \" + str(Df.shape))\n",
    "# no of rows and columns"
   ]
  },
  {
   "cell_type": "code",
   "execution_count": 6,
   "metadata": {
    "colab": {
     "base_uri": "https://localhost:8080/",
     "height": 243
    },
    "executionInfo": {
     "elapsed": 2557,
     "status": "ok",
     "timestamp": 1602308655817,
     "user": {
      "displayName": "Barkha Verma",
      "photoUrl": "",
      "userId": "05873071836640075999"
     },
     "user_tz": -330
    },
    "id": "Wk5tBY501Kup",
    "outputId": "99c19aa9-765d-4ad5-f836-82ef12b5990c"
   },
   "outputs": [
    {
     "name": "stdout",
     "output_type": "stream",
     "text": [
      "fixed acidity           0\n",
      "volatile acidity        0\n",
      "citric acid             0\n",
      "residual sugar          0\n",
      "chlorides               0\n",
      "free sulfur dioxide     0\n",
      "total sulfur dioxide    0\n",
      "density                 0\n",
      "pH                      0\n",
      "sulphates               0\n",
      "alcohol                 0\n",
      "quality                 0\n",
      "dtype: int64\n"
     ]
    }
   ],
   "source": [
    "print(Df.isna().sum())"
   ]
  },
  {
   "cell_type": "code",
   "execution_count": 7,
   "metadata": {
    "colab": {
     "base_uri": "https://localhost:8080/",
     "height": 347
    },
    "executionInfo": {
     "elapsed": 2537,
     "status": "ok",
     "timestamp": 1602308655817,
     "user": {
      "displayName": "Barkha Verma",
      "photoUrl": "",
      "userId": "05873071836640075999"
     },
     "user_tz": -330
    },
    "id": "PeDEmCdQnKVt",
    "outputId": "511be537-2526-4353-b534-3a4277a5e43e"
   },
   "outputs": [
    {
     "name": "stdout",
     "output_type": "stream",
     "text": [
      "<class 'pandas.core.frame.DataFrame'>\n",
      "RangeIndex: 1599 entries, 0 to 1598\n",
      "Data columns (total 12 columns):\n",
      " #   Column                Non-Null Count  Dtype  \n",
      "---  ------                --------------  -----  \n",
      " 0   fixed acidity         1599 non-null   float64\n",
      " 1   volatile acidity      1599 non-null   float64\n",
      " 2   citric acid           1599 non-null   float64\n",
      " 3   residual sugar        1599 non-null   float64\n",
      " 4   chlorides             1599 non-null   float64\n",
      " 5   free sulfur dioxide   1599 non-null   float64\n",
      " 6   total sulfur dioxide  1599 non-null   float64\n",
      " 7   density               1599 non-null   float64\n",
      " 8   pH                    1599 non-null   float64\n",
      " 9   sulphates             1599 non-null   float64\n",
      " 10  alcohol               1599 non-null   float64\n",
      " 11  quality               1599 non-null   int64  \n",
      "dtypes: float64(11), int64(1)\n",
      "memory usage: 150.0 KB\n"
     ]
    }
   ],
   "source": [
    "Df.info()"
   ]
  },
  {
   "cell_type": "code",
   "execution_count": null,
   "metadata": {
    "colab": {
     "base_uri": "https://localhost:8080/",
     "height": 349
    },
    "executionInfo": {
     "elapsed": 2524,
     "status": "ok",
     "timestamp": 1602308655818,
     "user": {
      "displayName": "Barkha Verma",
      "photoUrl": "",
      "userId": "05873071836640075999"
     },
     "user_tz": -330
    },
    "id": "d5vvt94Vnds-",
    "outputId": "3fb651a5-67ab-48bd-c12e-2565dc6a69c6"
   },
   "outputs": [
    {
     "data": {
      "text/html": [
       "<div>\n",
       "<style scoped>\n",
       "    .dataframe tbody tr th:only-of-type {\n",
       "        vertical-align: middle;\n",
       "    }\n",
       "\n",
       "    .dataframe tbody tr th {\n",
       "        vertical-align: top;\n",
       "    }\n",
       "\n",
       "    .dataframe thead th {\n",
       "        text-align: right;\n",
       "    }\n",
       "</style>\n",
       "<table border=\"1\" class=\"dataframe\">\n",
       "  <thead>\n",
       "    <tr style=\"text-align: right;\">\n",
       "      <th></th>\n",
       "      <th>fixed acidity</th>\n",
       "      <th>volatile acidity</th>\n",
       "      <th>citric acid</th>\n",
       "      <th>residual sugar</th>\n",
       "      <th>chlorides</th>\n",
       "      <th>free sulfur dioxide</th>\n",
       "      <th>total sulfur dioxide</th>\n",
       "      <th>density</th>\n",
       "      <th>pH</th>\n",
       "      <th>sulphates</th>\n",
       "      <th>alcohol</th>\n",
       "      <th>quality</th>\n",
       "    </tr>\n",
       "  </thead>\n",
       "  <tbody>\n",
       "    <tr>\n",
       "      <th>count</th>\n",
       "      <td>1599.000000</td>\n",
       "      <td>1599.000000</td>\n",
       "      <td>1599.000000</td>\n",
       "      <td>1599.000000</td>\n",
       "      <td>1599.000000</td>\n",
       "      <td>1599.000000</td>\n",
       "      <td>1599.000000</td>\n",
       "      <td>1599.000000</td>\n",
       "      <td>1599.000000</td>\n",
       "      <td>1599.000000</td>\n",
       "      <td>1599.000000</td>\n",
       "      <td>1599.000000</td>\n",
       "    </tr>\n",
       "    <tr>\n",
       "      <th>mean</th>\n",
       "      <td>8.319637</td>\n",
       "      <td>0.527821</td>\n",
       "      <td>0.270976</td>\n",
       "      <td>2.538806</td>\n",
       "      <td>0.087467</td>\n",
       "      <td>15.874922</td>\n",
       "      <td>46.467792</td>\n",
       "      <td>0.996747</td>\n",
       "      <td>3.311113</td>\n",
       "      <td>0.658149</td>\n",
       "      <td>10.422983</td>\n",
       "      <td>5.636023</td>\n",
       "    </tr>\n",
       "    <tr>\n",
       "      <th>std</th>\n",
       "      <td>1.741096</td>\n",
       "      <td>0.179060</td>\n",
       "      <td>0.194801</td>\n",
       "      <td>1.409928</td>\n",
       "      <td>0.047065</td>\n",
       "      <td>10.460157</td>\n",
       "      <td>32.895324</td>\n",
       "      <td>0.001887</td>\n",
       "      <td>0.154386</td>\n",
       "      <td>0.169507</td>\n",
       "      <td>1.065668</td>\n",
       "      <td>0.807569</td>\n",
       "    </tr>\n",
       "    <tr>\n",
       "      <th>min</th>\n",
       "      <td>4.600000</td>\n",
       "      <td>0.120000</td>\n",
       "      <td>0.000000</td>\n",
       "      <td>0.900000</td>\n",
       "      <td>0.012000</td>\n",
       "      <td>1.000000</td>\n",
       "      <td>6.000000</td>\n",
       "      <td>0.990070</td>\n",
       "      <td>2.740000</td>\n",
       "      <td>0.330000</td>\n",
       "      <td>8.400000</td>\n",
       "      <td>3.000000</td>\n",
       "    </tr>\n",
       "    <tr>\n",
       "      <th>25%</th>\n",
       "      <td>7.100000</td>\n",
       "      <td>0.390000</td>\n",
       "      <td>0.090000</td>\n",
       "      <td>1.900000</td>\n",
       "      <td>0.070000</td>\n",
       "      <td>7.000000</td>\n",
       "      <td>22.000000</td>\n",
       "      <td>0.995600</td>\n",
       "      <td>3.210000</td>\n",
       "      <td>0.550000</td>\n",
       "      <td>9.500000</td>\n",
       "      <td>5.000000</td>\n",
       "    </tr>\n",
       "    <tr>\n",
       "      <th>50%</th>\n",
       "      <td>7.900000</td>\n",
       "      <td>0.520000</td>\n",
       "      <td>0.260000</td>\n",
       "      <td>2.200000</td>\n",
       "      <td>0.079000</td>\n",
       "      <td>14.000000</td>\n",
       "      <td>38.000000</td>\n",
       "      <td>0.996750</td>\n",
       "      <td>3.310000</td>\n",
       "      <td>0.620000</td>\n",
       "      <td>10.200000</td>\n",
       "      <td>6.000000</td>\n",
       "    </tr>\n",
       "    <tr>\n",
       "      <th>75%</th>\n",
       "      <td>9.200000</td>\n",
       "      <td>0.640000</td>\n",
       "      <td>0.420000</td>\n",
       "      <td>2.600000</td>\n",
       "      <td>0.090000</td>\n",
       "      <td>21.000000</td>\n",
       "      <td>62.000000</td>\n",
       "      <td>0.997835</td>\n",
       "      <td>3.400000</td>\n",
       "      <td>0.730000</td>\n",
       "      <td>11.100000</td>\n",
       "      <td>6.000000</td>\n",
       "    </tr>\n",
       "    <tr>\n",
       "      <th>max</th>\n",
       "      <td>15.900000</td>\n",
       "      <td>1.580000</td>\n",
       "      <td>1.000000</td>\n",
       "      <td>15.500000</td>\n",
       "      <td>0.611000</td>\n",
       "      <td>72.000000</td>\n",
       "      <td>289.000000</td>\n",
       "      <td>1.003690</td>\n",
       "      <td>4.010000</td>\n",
       "      <td>2.000000</td>\n",
       "      <td>14.900000</td>\n",
       "      <td>8.000000</td>\n",
       "    </tr>\n",
       "  </tbody>\n",
       "</table>\n",
       "</div>"
      ],
      "text/plain": [
       "       fixed acidity  volatile acidity  ...      alcohol      quality\n",
       "count    1599.000000       1599.000000  ...  1599.000000  1599.000000\n",
       "mean        8.319637          0.527821  ...    10.422983     5.636023\n",
       "std         1.741096          0.179060  ...     1.065668     0.807569\n",
       "min         4.600000          0.120000  ...     8.400000     3.000000\n",
       "25%         7.100000          0.390000  ...     9.500000     5.000000\n",
       "50%         7.900000          0.520000  ...    10.200000     6.000000\n",
       "75%         9.200000          0.640000  ...    11.100000     6.000000\n",
       "max        15.900000          1.580000  ...    14.900000     8.000000\n",
       "\n",
       "[8 rows x 12 columns]"
      ]
     },
     "execution_count": 74,
     "metadata": {
      "tags": []
     },
     "output_type": "execute_result"
    }
   ],
   "source": [
    "Df.describe()"
   ]
  },
  {
   "cell_type": "code",
   "execution_count": null,
   "metadata": {
    "colab": {
     "base_uri": "https://localhost:8080/",
     "height": 405
    },
    "executionInfo": {
     "elapsed": 2508,
     "status": "ok",
     "timestamp": 1602308655819,
     "user": {
      "displayName": "Barkha Verma",
      "photoUrl": "",
      "userId": "05873071836640075999"
     },
     "user_tz": -330
    },
    "id": "Ivr4w6nsoOy6",
    "outputId": "bac0cdae-4edc-44c2-d106-c3dcec8ea2b4"
   },
   "outputs": [
    {
     "data": {
      "text/plain": [
       "<matplotlib.axes._subplots.AxesSubplot at 0x7f0a2891f710>"
      ]
     },
     "execution_count": 75,
     "metadata": {
      "tags": []
     },
     "output_type": "execute_result"
    },
    {
     "data": {
      "image/png": "[encoded data removed]",
      "text/plain": [
       "<Figure size 576x432 with 1 Axes>"
      ]
     },
     "metadata": {
      "needs_background": "light",
      "tags": []
     },
     "output_type": "display_data"
    }
   ],
   "source": [
    "fig=mpl.figure(figsize = (8,6))\n",
    "sb.barplot(x=\"quality\",y=\"fixed acidity\",data=Df)\n",
    "#fixed.acidity doesn't affect quality of wine."
   ]
  },
  {
   "cell_type": "code",
   "execution_count": null,
   "metadata": {
    "id": "CKSXknB-s-94"
   },
   "outputs": [],
   "source": [
    "#data processing\n",
    "# bin se range me \n",
    "# 2-6 bad 0\n",
    "# 6-8 good 1\n",
    "# label encoding for 0 and 1"
   ]
  },
  {
   "cell_type": "code",
   "execution_count": null,
   "metadata": {
    "colab": {
     "base_uri": "https://localhost:8080/",
     "height": 405
    },
    "executionInfo": {
     "elapsed": 3001,
     "status": "ok",
     "timestamp": 1602308656343,
     "user": {
      "displayName": "Barkha Verma",
      "photoUrl": "",
      "userId": "05873071836640075999"
     },
     "user_tz": -330
    },
    "id": "re4X6opBt6d5",
    "outputId": "499d8e97-7bfb-4910-f58c-bb10a3fe6143"
   },
   "outputs": [
    {
     "data": {
      "text/plain": [
       "<matplotlib.axes._subplots.AxesSubplot at 0x7f0a288a03c8>"
      ]
     },
     "execution_count": 77,
     "metadata": {
      "tags": []
     },
     "output_type": "execute_result"
    },
    {
     "data": {
      "image/png": "[encoded data removed]",
      "text/plain": [
       "<Figure size 576x432 with 1 Axes>"
      ]
     },
     "metadata": {
      "needs_background": "light",
      "tags": []
     },
     "output_type": "display_data"
    }
   ],
   "source": [
    "fig=mpl.figure(figsize = (8,6))\n",
    "sb.barplot(x=\"quality\",y=\"volatile acidity\",data=Df)\n",
    "#It does affect."
   ]
  },
  {
   "cell_type": "code",
   "execution_count": null,
   "metadata": {
    "colab": {
     "base_uri": "https://localhost:8080/",
     "height": 405
    },
    "executionInfo": {
     "elapsed": 2987,
     "status": "ok",
     "timestamp": 1602308656344,
     "user": {
      "displayName": "Barkha Verma",
      "photoUrl": "",
      "userId": "05873071836640075999"
     },
     "user_tz": -330
    },
    "id": "YWpPHRYCw6xy",
    "outputId": "320bf4eb-bc52-43ee-e03c-9d89ea0a5055"
   },
   "outputs": [
    {
     "data": {
      "text/plain": [
       "<matplotlib.axes._subplots.AxesSubplot at 0x7f0a2880a6a0>"
      ]
     },
     "execution_count": 78,
     "metadata": {
      "tags": []
     },
     "output_type": "execute_result"
    },
    {
     "data": {
      "image/png": "[encoded data removed]",
      "text/plain": [
       "<Figure size 576x432 with 1 Axes>"
      ]
     },
     "metadata": {
      "needs_background": "light",
      "tags": []
     },
     "output_type": "display_data"
    }
   ],
   "source": [
    "fig=mpl.figure(figsize = (8,6))\n",
    "sb.barplot(x=\"quality\",y=\"citric acid\",data=Df)\n",
    "#It does affect."
   ]
  },
  {
   "cell_type": "code",
   "execution_count": null,
   "metadata": {
    "colab": {
     "base_uri": "https://localhost:8080/",
     "height": 405
    },
    "executionInfo": {
     "elapsed": 3417,
     "status": "ok",
     "timestamp": 1602308656787,
     "user": {
      "displayName": "Barkha Verma",
      "photoUrl": "",
      "userId": "05873071836640075999"
     },
     "user_tz": -330
    },
    "id": "77q6jMBhxPi5",
    "outputId": "b1d58b1c-fb18-4cde-c626-0e8afa1120e9"
   },
   "outputs": [
    {
     "data": {
      "text/plain": [
       "<matplotlib.axes._subplots.AxesSubplot at 0x7f0a287806d8>"
      ]
     },
     "execution_count": 79,
     "metadata": {
      "tags": []
     },
     "output_type": "execute_result"
    },
    {
     "data": {
      "image/png": "[encoded data removed]",
      "text/plain": [
       "<Figure size 576x432 with 1 Axes>"
      ]
     },
     "metadata": {
      "needs_background": "light",
      "tags": []
     },
     "output_type": "display_data"
    }
   ],
   "source": [
    "fig=mpl.figure(figsize = (8,6))\n",
    "sb.barplot(x=\"quality\",y=\"residual sugar\",data=Df)\n",
    "#It doesnt affect."
   ]
  },
  {
   "cell_type": "code",
   "execution_count": null,
   "metadata": {
    "colab": {
     "base_uri": "https://localhost:8080/",
     "height": 405
    },
    "executionInfo": {
     "elapsed": 3908,
     "status": "ok",
     "timestamp": 1602308657292,
     "user": {
      "displayName": "Barkha Verma",
      "photoUrl": "",
      "userId": "05873071836640075999"
     },
     "user_tz": -330
    },
    "id": "19-QUGXyxSPU",
    "outputId": "9b518c1e-6b9a-40f0-edc2-8781022813c3"
   },
   "outputs": [
    {
     "data": {
      "text/plain": [
       "<matplotlib.axes._subplots.AxesSubplot at 0x7f0a2ff17128>"
      ]
     },
     "execution_count": 80,
     "metadata": {
      "tags": []
     },
     "output_type": "execute_result"
    },
    {
     "data": {
      "image/png": "[encoded data removed]",
      "text/plain": [
       "<Figure size 576x432 with 1 Axes>"
      ]
     },
     "metadata": {
      "needs_background": "light",
      "tags": []
     },
     "output_type": "display_data"
    }
   ],
   "source": [
    "fig=mpl.figure(figsize = (8,6))\n",
    "sb.barplot(x=\"quality\",y=\"chlorides\",data=Df)\n",
    "#It does affects"
   ]
  },
  {
   "cell_type": "code",
   "execution_count": null,
   "metadata": {
    "colab": {
     "base_uri": "https://localhost:8080/",
     "height": 405
    },
    "executionInfo": {
     "elapsed": 3894,
     "status": "ok",
     "timestamp": 1602308657293,
     "user": {
      "displayName": "Barkha Verma",
      "photoUrl": "",
      "userId": "05873071836640075999"
     },
     "user_tz": -330
    },
    "id": "2PDxOpKBx_xr",
    "outputId": "d230ed3b-8881-4048-8e93-785f27678d6f"
   },
   "outputs": [
    {
     "data": {
      "text/plain": [
       "<matplotlib.axes._subplots.AxesSubplot at 0x7f0a287fab70>"
      ]
     },
     "execution_count": 81,
     "metadata": {
      "tags": []
     },
     "output_type": "execute_result"
    },
    {
     "data": {
      "image/png": "[encoded data removed]",
      "text/plain": [
       "<Figure size 576x432 with 1 Axes>"
      ]
     },
     "metadata": {
      "needs_background": "light",
      "tags": []
     },
     "output_type": "display_data"
    }
   ],
   "source": [
    "fig=mpl.figure(figsize = (8,6))\n",
    "sb.barplot(x=\"quality\",y=\"free sulfur dioxide\",data=Df)\n",
    "#It does affect"
   ]
  },
  {
   "cell_type": "code",
   "execution_count": null,
   "metadata": {
    "colab": {
     "base_uri": "https://localhost:8080/",
     "height": 405
    },
    "executionInfo": {
     "elapsed": 4575,
     "status": "ok",
     "timestamp": 1602308657988,
     "user": {
      "displayName": "Barkha Verma",
      "photoUrl": "",
      "userId": "05873071836640075999"
     },
     "user_tz": -330
    },
    "id": "tL0vJc5TyWWf",
    "outputId": "4f89a51f-ed9b-4b29-cfe9-b662f04bf480"
   },
   "outputs": [
    {
     "data": {
      "text/plain": [
       "<matplotlib.axes._subplots.AxesSubplot at 0x7f0a286400b8>"
      ]
     },
     "execution_count": 82,
     "metadata": {
      "tags": []
     },
     "output_type": "execute_result"
    },
    {
     "data": {
      "image/png": "[encoded data removed]",
      "text/plain": [
       "<Figure size 576x432 with 1 Axes>"
      ]
     },
     "metadata": {
      "needs_background": "light",
      "tags": []
     },
     "output_type": "display_data"
    }
   ],
   "source": [
    "fig=mpl.figure(figsize = (8,6))\n",
    "sb.barplot(x=\"quality\",y=\"total sulfur dioxide\",data=Df)\n",
    "#It doesnt affect"
   ]
  },
  {
   "cell_type": "code",
   "execution_count": null,
   "metadata": {
    "colab": {
     "base_uri": "https://localhost:8080/",
     "height": 405
    },
    "executionInfo": {
     "elapsed": 5669,
     "status": "ok",
     "timestamp": 1602308659094,
     "user": {
      "displayName": "Barkha Verma",
      "photoUrl": "",
      "userId": "05873071836640075999"
     },
     "user_tz": -330
    },
    "id": "SoLox-ozydyF",
    "outputId": "50126283-94f0-4cb6-dc04-039ecc1eb5ba"
   },
   "outputs": [
    {
     "data": {
      "text/plain": [
       "<matplotlib.axes._subplots.AxesSubplot at 0x7f0a287b1588>"
      ]
     },
     "execution_count": 83,
     "metadata": {
      "tags": []
     },
     "output_type": "execute_result"
    },
    {
     "data": {
      "image/png": "[encoded data removed]",
      "text/plain": [
       "<Figure size 576x432 with 1 Axes>"
      ]
     },
     "metadata": {
      "needs_background": "light",
      "tags": []
     },
     "output_type": "display_data"
    }
   ],
   "source": [
    "fig=mpl.figure(figsize = (8,6))\n",
    "sb.barplot(x=\"quality\",y=\"density\",data=Df)\n",
    "#It doesn't affect"
   ]
  },
  {
   "cell_type": "code",
   "execution_count": null,
   "metadata": {
    "colab": {
     "base_uri": "https://localhost:8080/",
     "height": 405
    },
    "executionInfo": {
     "elapsed": 5657,
     "status": "ok",
     "timestamp": 1602308659099,
     "user": {
      "displayName": "Barkha Verma",
      "photoUrl": "",
      "userId": "05873071836640075999"
     },
     "user_tz": -330
    },
    "id": "HbPav8N7yd31",
    "outputId": "28165d51-f341-4718-e559-aaf40fd5e334"
   },
   "outputs": [
    {
     "data": {
      "text/plain": [
       "<matplotlib.axes._subplots.AxesSubplot at 0x7f0a28650198>"
      ]
     },
     "execution_count": 84,
     "metadata": {
      "tags": []
     },
     "output_type": "execute_result"
    },
    {
     "data": {
      "image/png": "[encoded data removed]",
      "text/plain": [
       "<Figure size 576x432 with 1 Axes>"
      ]
     },
     "metadata": {
      "needs_background": "light",
      "tags": []
     },
     "output_type": "display_data"
    }
   ],
   "source": [
    "fig=mpl.figure(figsize = (8,6))\n",
    "sb.barplot(x=\"quality\",y=\"pH\",data=Df)\n",
    "#It does affect"
   ]
  },
  {
   "cell_type": "code",
   "execution_count": null,
   "metadata": {
    "colab": {
     "base_uri": "https://localhost:8080/",
     "height": 405
    },
    "executionInfo": {
     "elapsed": 5646,
     "status": "ok",
     "timestamp": 1602308659102,
     "user": {
      "displayName": "Barkha Verma",
      "photoUrl": "",
      "userId": "05873071836640075999"
     },
     "user_tz": -330
    },
    "id": "qtPA2-kByeCt",
    "outputId": "94141f7c-1371-4e07-dc99-bce2681ee75c"
   },
   "outputs": [
    {
     "data": {
      "text/plain": [
       "<matplotlib.axes._subplots.AxesSubplot at 0x7f0a2880aeb8>"
      ]
     },
     "execution_count": 85,
     "metadata": {
      "tags": []
     },
     "output_type": "execute_result"
    },
    {
     "data": {
      "image/png": "[encoded data removed]",
      "text/plain": [
       "<Figure size 576x432 with 1 Axes>"
      ]
     },
     "metadata": {
      "needs_background": "light",
      "tags": []
     },
     "output_type": "display_data"
    }
   ],
   "source": [
    "fig=mpl.figure(figsize = (8,6))\n",
    "sb.barplot(x=\"quality\",y=\"sulphates\",data=Df)\n",
    "#It does affect"
   ]
  },
  {
   "cell_type": "code",
   "execution_count": null,
   "metadata": {
    "colab": {
     "base_uri": "https://localhost:8080/",
     "height": 405
    },
    "executionInfo": {
     "elapsed": 6091,
     "status": "ok",
     "timestamp": 1602308659564,
     "user": {
      "displayName": "Barkha Verma",
      "photoUrl": "",
      "userId": "05873071836640075999"
     },
     "user_tz": -330
    },
    "id": "vF8iAg6hyeMF",
    "outputId": "03a6a8e2-a5f3-4930-b468-d5fe8e6adf93"
   },
   "outputs": [
    {
     "data": {
      "text/plain": [
       "<matplotlib.axes._subplots.AxesSubplot at 0x7f0a2880ac88>"
      ]
     },
     "execution_count": 86,
     "metadata": {
      "tags": []
     },
     "output_type": "execute_result"
    },
    {
     "data": {
      "image/png": "[encoded data removed]",
      "text/plain": [
       "<Figure size 576x432 with 1 Axes>"
      ]
     },
     "metadata": {
      "needs_background": "light",
      "tags": []
     },
     "output_type": "display_data"
    }
   ],
   "source": [
    "fig=mpl.figure(figsize = (8,6))\n",
    "sb.barplot(x=\"quality\",y=\"alcohol\",data=Df)\n",
    "#It does affect"
   ]
  },
  {
   "cell_type": "code",
   "execution_count": null,
   "metadata": {
    "id": "YyoZXMynczzH"
   },
   "outputs": [],
   "source": [
    "from sklearn.preprocessing import LabelEncoder, StandardScaler\n",
    "bins = (2, 6.5, 8) \n",
    "group_names = ['bad', 'good'] \n",
    "Df['quality'] = pd.cut(x=Df['quality'],bins = bins,labels = group_names)"
   ]
  },
  {
   "cell_type": "code",
   "execution_count": null,
   "metadata": {
    "id": "B-e225y-7TQ8"
   },
   "outputs": [],
   "source": [
    " label_quality = LabelEncoder()"
   ]
  },
  {
   "cell_type": "code",
   "execution_count": null,
   "metadata": {
    "colab": {
     "base_uri": "https://localhost:8080/",
     "height": 69
    },
    "executionInfo": {
     "elapsed": 6057,
     "status": "ok",
     "timestamp": 1602308659567,
     "user": {
      "displayName": "Barkha Verma",
      "photoUrl": "",
      "userId": "05873071836640075999"
     },
     "user_tz": -330
    },
    "id": "EIWQR11r7owS",
    "outputId": "7df126df-916e-437f-e221-5c12d517e119"
   },
   "outputs": [
    {
     "data": {
      "text/plain": [
       "0    1382\n",
       "1     217\n",
       "Name: quality, dtype: int64"
      ]
     },
     "execution_count": 89,
     "metadata": {
      "tags": []
     },
     "output_type": "execute_result"
    }
   ],
   "source": [
    "Df['quality'] = label_quality.fit_transform(Df['quality'])\n",
    "Df['quality'].value_counts()"
   ]
  },
  {
   "cell_type": "code",
   "execution_count": null,
   "metadata": {
    "id": "T4MQOrSm9kRZ"
   },
   "outputs": [],
   "source": [
    " \n",
    "x= Df.drop('quality', axis = 1)\n",
    "y = Df['quality']"
   ]
  },
  {
   "cell_type": "code",
   "execution_count": null,
   "metadata": {
    "colab": {
     "base_uri": "https://localhost:8080/",
     "height": 260
    },
    "executionInfo": {
     "elapsed": 1095,
     "status": "ok",
     "timestamp": 1602308699768,
     "user": {
      "displayName": "Barkha Verma",
      "photoUrl": "",
      "userId": "05873071836640075999"
     },
     "user_tz": -330
    },
    "id": "fXyehbTu_4H5",
    "outputId": "486eeb16-09d8-444b-b667-a5b2140188cd"
   },
   "outputs": [
    {
     "name": "stdout",
     "output_type": "stream",
     "text": [
      "      fixed acidity  volatile acidity  citric acid  ...    pH  sulphates  alcohol\n",
      "1125            8.8             0.240         0.35  ...  3.14       0.59     11.3\n",
      "1144            7.3             0.320         0.23  ...  3.43       0.62     10.1\n",
      "1058            9.9             0.530         0.57  ...  3.19       0.76     11.6\n",
      "629             7.6             0.685         0.23  ...  3.21       0.61      9.3\n",
      "1350            9.0             0.600         0.29  ...  3.34       0.57     10.0\n",
      "...             ...               ...          ...  ...   ...        ...      ...\n",
      "1130            9.1             0.600         0.00  ...  3.18       0.63     10.4\n",
      "1294            8.2             0.635         0.10  ...  3.29       0.75     10.9\n",
      "860             7.2             0.620         0.06  ...  3.51       0.54      9.5\n",
      "1459            7.9             0.200         0.35  ...  3.32       0.80     11.9\n",
      "1126            5.8             0.290         0.26  ...  3.39       0.54     13.5\n",
      "\n",
      "[1439 rows x 11 columns]\n"
     ]
    }
   ],
   "source": [
    "#train\n",
    " \n",
    "from sklearn.model_selection import train_test_split\n",
    "x_train, x_test, y_train, y_test = train_test_split(x, y, test_size = 0.1, random_state = 42)\n",
    "print(x_train)\n",
    "#test"
   ]
  },
  {
   "cell_type": "code",
   "execution_count": null,
   "metadata": {
    "colab": {
     "base_uri": "https://localhost:8080/",
     "height": 243
    },
    "executionInfo": {
     "elapsed": 1432,
     "status": "ok",
     "timestamp": 1602308704029,
     "user": {
      "displayName": "Barkha Verma",
      "photoUrl": "",
      "userId": "05873071836640075999"
     },
     "user_tz": -330
    },
    "id": "ViG892A1CLMx",
    "outputId": "053dcef0-2d41-4b33-b273-7eb594396ccb"
   },
   "outputs": [
    {
     "name": "stdout",
     "output_type": "stream",
     "text": [
      "[[ 0.26249979 -1.60669273  0.38904754 ... -1.09451747 -0.39446783\n",
      "   0.81840583]\n",
      " [-0.60030789 -1.16253586 -0.22318912 ...  0.77995655 -0.21980961\n",
      "  -0.30467057]\n",
      " [ 0.89522543  0.00337593  1.51148142 ... -0.77133229  0.59526206\n",
      "   1.09917493]\n",
      " ...\n",
      " [-0.6578284   0.50305241 -1.0905244  ...  1.29705283 -0.68556485\n",
      "  -0.86620877]\n",
      " [-0.25518482 -1.82877117  0.38904754 ...  0.06894917  0.82813969\n",
      "   1.37994403]\n",
      " [-1.46311558 -1.32909469 -0.07012996 ...  0.52140841 -0.68556485\n",
      "   2.87737922]]\n"
     ]
    }
   ],
   "source": [
    "sc=StandardScaler()\n",
    "x_train = sc.fit_transform(x_train)\n",
    "x_test = sc.fit_transform(x_test)\n",
    "print(x_train)"
   ]
  },
  {
   "cell_type": "markdown",
   "metadata": {
    "id": "8UGafLfj6gwi"
   },
   "source": [
    "# Our training and testing data is ready now to perform machine learning algorithm"
   ]
  },
  {
   "cell_type": "markdown",
   "metadata": {
    "id": "eqU0C1Ey6oMK"
   },
   "source": [
    "Random Forest Classifier"
   ]
  },
  {
   "cell_type": "code",
   "execution_count": null,
   "metadata": {
    "id": "PKFAIX3Z5_jV"
   },
   "outputs": [],
   "source": [
    "from sklearn.ensemble import RandomForestClassifier\n",
    "RFC = RandomForestClassifier(n_estimators=200)\n",
    "RFC.fit(x_train, y_train)\n",
    "pred_R/[7y.t)"
   ]
  },
  {
   "cell_type": "code",
   "execution_count": null,
   "metadata": {
    "colab": {
     "base_uri": "https://localhost:8080/",
     "height": 173
    },
    "executionInfo": {
     "elapsed": 677,
     "status": "ok",
     "timestamp": 1602308709408,
     "user": {
      "displayName": "Barkha Verma",
      "photoUrl": "",
      "userId": "05873071836640075999"
     },
     "user_tz": -330
    },
    "id": "A06WrDx763mG",
    "outputId": "9dfc0055-d3df-4059-fdb7-99dc6d640dde"
   },
   "outputs": [
    {
     "name": "stdout",
     "output_type": "stream",
     "text": [
      "              precision    recall  f1-score   support\n",
      "\n",
      "           0       0.91      0.96      0.93       138\n",
      "           1       0.60      0.41      0.49        22\n",
      "\n",
      "    accuracy                           0.88       160\n",
      "   macro avg       0.76      0.68      0.71       160\n",
      "weighted avg       0.87      0.88      0.87       160\n",
      "\n"
     ]
    }
   ],
   "source": [
    "# Here we are calculating accuracy of RnadomForestClassifier model\n",
    "from sklearn.metrics import confusion_matrix, classification_report, accuracy_score\n",
    "print(classification_report(y_test, pred_RFC))"
   ]
  },
  {
   "cell_type": "code",
   "execution_count": null,
   "metadata": {
    "colab": {
     "base_uri": "https://localhost:8080/",
     "height": 69
    },
    "executionInfo": {
     "elapsed": 1341,
     "status": "ok",
     "timestamp": 1602308712977,
     "user": {
      "displayName": "Barkha Verma",
      "photoUrl": "",
      "userId": "05873071836640075999"
     },
     "user_tz": -330
    },
    "id": "EMf4fkHS7Qm-",
    "outputId": "0a3da5eb-6be4-4ddf-a67b-786451ba0b4c"
   },
   "outputs": [
    {
     "name": "stdout",
     "output_type": "stream",
     "text": [
      "[[132   6]\n",
      " [ 13   9]]\n"
     ]
    },
    {
     "data": {
      "text/plain": [
       "0.88125"
      ]
     },
     "execution_count": 118,
     "metadata": {
      "tags": []
     },
     "output_type": "execute_result"
    }
   ],
   "source": [
    "# Here we are printing confusion matrix \n",
    "print(confusion_matrix(y_test, pred_RFC))\n",
    "accuracy_score(y_test,pred_RFC )"
   ]
  },
  {
   "cell_type": "markdown",
   "metadata": {
    "id": "GgReZiMV8Da4"
   },
   "source": [
    "Support Vector Classifier"
   ]
  },
  {
   "cell_type": "code",
   "execution_count": null,
   "metadata": {
    "id": "bZNpKQiO8DGw"
   },
   "outputs": [],
   "source": [
    "from sklearn.svm import SVC\n",
    "svc = SVC()\n",
    "svc.fit(x_train, y_train)\n",
    "pred_svc = svc.predict(x_test)\n"
   ]
  },
  {
   "cell_type": "code",
   "execution_count": null,
   "metadata": {
    "colab": {
     "base_uri": "https://localhost:8080/",
     "height": 173
    },
    "executionInfo": {
     "elapsed": 1038,
     "status": "ok",
     "timestamp": 1602308717942,
     "user": {
      "displayName": "Barkha Verma",
      "photoUrl": "",
      "userId": "05873071836640075999"
     },
     "user_tz": -330
    },
    "id": "d-G8-k0u70qz",
    "outputId": "b63cc3e4-d7c0-4d6f-9fc5-84632599aac1"
   },
   "outputs": [
    {
     "name": "stdout",
     "output_type": "stream",
     "text": [
      "              precision    recall  f1-score   support\n",
      "\n",
      "           0       0.88      0.98      0.92       138\n",
      "           1       0.50      0.14      0.21        22\n",
      "\n",
      "    accuracy                           0.86       160\n",
      "   macro avg       0.69      0.56      0.57       160\n",
      "weighted avg       0.82      0.86      0.83       160\n",
      "\n"
     ]
    }
   ],
   "source": [
    "print(classification_report(y_test, pred_svc))"
   ]
  },
  {
   "cell_type": "code",
   "execution_count": null,
   "metadata": {
    "colab": {
     "base_uri": "https://localhost:8080/",
     "height": 69
    },
    "executionInfo": {
     "elapsed": 1178,
     "status": "ok",
     "timestamp": 1602308720725,
     "user": {
      "displayName": "Barkha Verma",
      "photoUrl": "",
      "userId": "05873071836640075999"
     },
     "user_tz": -330
    },
    "id": "xwg2lT5h8a6Y",
    "outputId": "34143100-bd2e-43fd-8663-8362bb9987b4"
   },
   "outputs": [
    {
     "name": "stdout",
     "output_type": "stream",
     "text": [
      "[[135   3]\n",
      " [ 19   3]]\n"
     ]
    },
    {
     "data": {
      "text/plain": [
       "0.8625"
      ]
     },
     "execution_count": 121,
     "metadata": {
      "tags": []
     },
     "output_type": "execute_result"
    }
   ],
   "source": [
    "print(confusion_matrix(y_test, pred_svc))\n",
    "accuracy_score(y_test,pred_svc)"
   ]
  },
  {
   "cell_type": "markdown",
   "metadata": {
    "id": "tfv2Nl3r93TP"
   },
   "source": [
    "LOGISTIC REGRESSION"
   ]
  },
  {
   "cell_type": "code",
   "execution_count": null,
   "metadata": {
    "id": "Gf09xHR18fVg"
   },
   "outputs": [],
   "source": [
    "from sklearn.linear_model import LogisticRegression\n",
    "LR = LogisticRegression (random_state=0)\n",
    "LR.fit(x_train,y_train)\n",
    "pred_LR = LR.predict(x_test)"
   ]
  },
  {
   "cell_type": "code",
   "execution_count": null,
   "metadata": {
    "colab": {
     "base_uri": "https://localhost:8080/",
     "height": 173
    },
    "executionInfo": {
     "elapsed": 1143,
     "status": "ok",
     "timestamp": 1602308726224,
     "user": {
      "displayName": "Barkha Verma",
      "photoUrl": "",
      "userId": "05873071836640075999"
     },
     "user_tz": -330
    },
    "id": "wK9FFXvx-Yet",
    "outputId": "7a8256c2-c27a-4074-ce53-73fe5a5bda28"
   },
   "outputs": [
    {
     "name": "stdout",
     "output_type": "stream",
     "text": [
      "              precision    recall  f1-score   support\n",
      "\n",
      "           0       0.90      0.96      0.93       138\n",
      "           1       0.58      0.32      0.41        22\n",
      "\n",
      "    accuracy                           0.88       160\n",
      "   macro avg       0.74      0.64      0.67       160\n",
      "weighted avg       0.86      0.88      0.86       160\n",
      "\n"
     ]
    }
   ],
   "source": [
    "print(classification_report(y_test, pred_LR))"
   ]
  },
  {
   "cell_type": "code",
   "execution_count": null,
   "metadata": {
    "colab": {
     "base_uri": "https://localhost:8080/",
     "height": 69
    },
    "executionInfo": {
     "elapsed": 1041,
     "status": "ok",
     "timestamp": 1602308728387,
     "user": {
      "displayName": "Barkha Verma",
      "photoUrl": "",
      "userId": "05873071836640075999"
     },
     "user_tz": -330
    },
    "id": "cyuu95Wg-GZV",
    "outputId": "e9d1e19a-543d-4dbb-b5fc-ee60228dd459"
   },
   "outputs": [
    {
     "name": "stdout",
     "output_type": "stream",
     "text": [
      "[[133   5]\n",
      " [ 15   7]]\n"
     ]
    },
    {
     "data": {
      "text/plain": [
       "0.875"
      ]
     },
     "execution_count": 124,
     "metadata": {
      "tags": []
     },
     "output_type": "execute_result"
    }
   ],
   "source": [
    "print(confusion_matrix(y_test, pred_LR))\n",
    "accuracy_score(y_test,pred_LR)\n"
   ]
  },
  {
   "cell_type": "markdown",
   "metadata": {
    "id": "JNM0FFtg-6YO"
   },
   "source": [
    "K NEAREST NEIGHBORS"
   ]
  },
  {
   "cell_type": "code",
   "execution_count": null,
   "metadata": {
    "id": "3himCjh6-x-W"
   },
   "outputs": [],
   "source": [
    "from sklearn.neighbors import KNeighborsClassifier\n",
    "KNN = KNeighborsClassifier()\n",
    "KNN.fit(x_train, y_train)\n",
    "pred_KNN = KNN.predict(x_test)"
   ]
  },
  {
   "cell_type": "code",
   "execution_count": null,
   "metadata": {
    "colab": {
     "base_uri": "https://localhost:8080/",
     "height": 173
    },
    "executionInfo": {
     "elapsed": 1097,
     "status": "ok",
     "timestamp": 1602308734501,
     "user": {
      "displayName": "Barkha Verma",
      "photoUrl": "",
      "userId": "05873071836640075999"
     },
     "user_tz": -330
    },
    "id": "lkKybOHR_6wo",
    "outputId": "d66393d5-6c0e-45ec-c59b-0b8ecb12e672"
   },
   "outputs": [
    {
     "name": "stdout",
     "output_type": "stream",
     "text": [
      "              precision    recall  f1-score   support\n",
      "\n",
      "           0       0.90      0.96      0.93       138\n",
      "           1       0.62      0.36      0.46        22\n",
      "\n",
      "    accuracy                           0.88       160\n",
      "   macro avg       0.76      0.66      0.70       160\n",
      "weighted avg       0.86      0.88      0.87       160\n",
      "\n"
     ]
    }
   ],
   "source": [
    "print(classification_report(y_test, pred_KNN))"
   ]
  },
  {
   "cell_type": "code",
   "execution_count": null,
   "metadata": {
    "colab": {
     "base_uri": "https://localhost:8080/",
     "height": 69
    },
    "executionInfo": {
     "elapsed": 1267,
     "status": "ok",
     "timestamp": 1602308737934,
     "user": {
      "displayName": "Barkha Verma",
      "photoUrl": "",
      "userId": "05873071836640075999"
     },
     "user_tz": -330
    },
    "id": "RjtJzyGhAE5C",
    "outputId": "15d3eb35-8dcb-4471-e420-c7d955b0f863"
   },
   "outputs": [
    {
     "name": "stdout",
     "output_type": "stream",
     "text": [
      "[[133   5]\n",
      " [ 14   8]]\n"
     ]
    },
    {
     "data": {
      "text/plain": [
       "0.88125"
      ]
     },
     "execution_count": 127,
     "metadata": {
      "tags": []
     },
     "output_type": "execute_result"
    }
   ],
   "source": [
    "print(confusion_matrix(y_test, pred_KNN))\n",
    "accuracy_score(y_test,pred_KNN)\n"
   ]
  },
  {
   "cell_type": "markdown",
   "metadata": {
    "id": "o7Nkm-POAWak"
   },
   "source": [
    "KERNEL SVM"
   ]
  },
  {
   "cell_type": "code",
   "execution_count": null,
   "metadata": {
    "id": "uU7-Q0ymAL5U"
   },
   "outputs": [],
   "source": [
    "from sklearn.svm import SVC\n",
    "KSVM = SVC(kernel=\"rbf\",random_state=0,probability=True)\n",
    "KSVM.fit(x_train,y_train)\n",
    "pred_KSVM = KSVM.predict(x_test)"
   ]
  },
  {
   "cell_type": "code",
   "execution_count": null,
   "metadata": {
    "colab": {
     "base_uri": "https://localhost:8080/",
     "height": 173
    },
    "executionInfo": {
     "elapsed": 1033,
     "status": "ok",
     "timestamp": 1602308742505,
     "user": {
      "displayName": "Barkha Verma",
      "photoUrl": "",
      "userId": "05873071836640075999"
     },
     "user_tz": -330
    },
    "id": "Stjq0BzNAkvP",
    "outputId": "c68fe6d1-3fe9-445e-ee87-2836dc2d779f"
   },
   "outputs": [
    {
     "name": "stdout",
     "output_type": "stream",
     "text": [
      "              precision    recall  f1-score   support\n",
      "\n",
      "           0       0.88      0.98      0.92       138\n",
      "           1       0.50      0.14      0.21        22\n",
      "\n",
      "    accuracy                           0.86       160\n",
      "   macro avg       0.69      0.56      0.57       160\n",
      "weighted avg       0.82      0.86      0.83       160\n",
      "\n"
     ]
    }
   ],
   "source": [
    "print(classification_report(y_test, pred_KSVM))"
   ]
  },
  {
   "cell_type": "code",
   "execution_count": null,
   "metadata": {
    "colab": {
     "base_uri": "https://localhost:8080/",
     "height": 69
    },
    "executionInfo": {
     "elapsed": 1087,
     "status": "ok",
     "timestamp": 1602308745457,
     "user": {
      "displayName": "Barkha Verma",
      "photoUrl": "",
      "userId": "05873071836640075999"
     },
     "user_tz": -330
    },
    "id": "uaqNA4UfApII",
    "outputId": "e7178242-457d-49d3-ef58-8af3eb863eb2"
   },
   "outputs": [
    {
     "name": "stdout",
     "output_type": "stream",
     "text": [
      "[[135   3]\n",
      " [ 19   3]]\n"
     ]
    },
    {
     "data": {
      "text/plain": [
       "0.8625"
      ]
     },
     "execution_count": 130,
     "metadata": {
      "tags": []
     },
     "output_type": "execute_result"
    }
   ],
   "source": [
    "print(confusion_matrix(y_test, pred_KSVM))\n",
    "accuracy_score(y_test,pred_KSVM)"
   ]
  },
  {
   "cell_type": "markdown",
   "metadata": {
    "id": "LpPbAShRBB4F"
   },
   "source": [
    "NAIVE BAYES"
   ]
  },
  {
   "cell_type": "code",
   "execution_count": null,
   "metadata": {
    "id": "hmV8Y4TAAwJG"
   },
   "outputs": [],
   "source": [
    "from sklearn.naive_bayes import GaussianNB\n",
    "NB = GaussianNB()\n",
    "NB.fit(x_train, y_train)\n",
    "pred_NB = NB.predict(x_test)"
   ]
  },
  {
   "cell_type": "code",
   "execution_count": null,
   "metadata": {
    "colab": {
     "base_uri": "https://localhost:8080/",
     "height": 173
    },
    "executionInfo": {
     "elapsed": 712,
     "status": "ok",
     "timestamp": 1602308777072,
     "user": {
      "displayName": "Barkha Verma",
      "photoUrl": "",
      "userId": "05873071836640075999"
     },
     "user_tz": -330
    },
    "id": "j9ArrlgjBNib",
    "outputId": "f51faf22-925a-47c4-f6be-0fde157639dd"
   },
   "outputs": [
    {
     "name": "stdout",
     "output_type": "stream",
     "text": [
      "              precision    recall  f1-score   support\n",
      "\n",
      "           0       0.97      0.91      0.94       138\n",
      "           1       0.58      0.82      0.68        22\n",
      "\n",
      "    accuracy                           0.89       160\n",
      "   macro avg       0.77      0.86      0.81       160\n",
      "weighted avg       0.92      0.89      0.90       160\n",
      "\n"
     ]
    }
   ],
   "source": [
    "print(classification_report(y_test, pred_NB))"
   ]
  },
  {
   "cell_type": "code",
   "execution_count": null,
   "metadata": {
    "colab": {
     "base_uri": "https://localhost:8080/",
     "height": 69
    },
    "executionInfo": {
     "elapsed": 763,
     "status": "ok",
     "timestamp": 1602308778639,
     "user": {
      "displayName": "Barkha Verma",
      "photoUrl": "",
      "userId": "05873071836640075999"
     },
     "user_tz": -330
    },
    "id": "Kq98P21aBRIT",
    "outputId": "c97ad049-7d44-4320-fe28-6139420a5946"
   },
   "outputs": [
    {
     "name": "stdout",
     "output_type": "stream",
     "text": [
      "[[125  13]\n",
      " [  4  18]]\n"
     ]
    },
    {
     "data": {
      "text/plain": [
       "0.89375"
      ]
     },
     "execution_count": 139,
     "metadata": {
      "tags": []
     },
     "output_type": "execute_result"
    }
   ],
   "source": [
    "print(confusion_matrix(y_test, pred_NB))\n",
    "accuracy_score(y_test,pred_NB)"
   ]
  },
  {
   "cell_type": "markdown",
   "metadata": {
    "id": "Je9fbSbQBeL1"
   },
   "source": [
    "DECISION TREE"
   ]
  },
  {
   "cell_type": "code",
   "execution_count": null,
   "metadata": {
    "id": "WOt4Y-ZUBVhf"
   },
   "outputs": [],
   "source": [
    "from sklearn.tree import DecisionTreeClassifier\n",
    "DTC = DecisionTreeClassifier()\n",
    "DTC.fit(x_train, y_train)\n",
    "pred_DTC = DTC.predict(x_test)"
   ]
  },
  {
   "cell_type": "code",
   "execution_count": null,
   "metadata": {
    "colab": {
     "base_uri": "https://localhost:8080/",
     "height": 173
    },
    "executionInfo": {
     "elapsed": 1042,
     "status": "ok",
     "timestamp": 1602308759443,
     "user": {
      "displayName": "Barkha Verma",
      "photoUrl": "",
      "userId": "05873071836640075999"
     },
     "user_tz": -330
    },
    "id": "NQYHc9vdBt0a",
    "outputId": "620f39df-f6f2-4aed-9a57-d84901d11d46"
   },
   "outputs": [
    {
     "name": "stdout",
     "output_type": "stream",
     "text": [
      "              precision    recall  f1-score   support\n",
      "\n",
      "           0       0.91      0.92      0.91       138\n",
      "           1       0.45      0.41      0.43        22\n",
      "\n",
      "    accuracy                           0.85       160\n",
      "   macro avg       0.68      0.66      0.67       160\n",
      "weighted avg       0.84      0.85      0.85       160\n",
      "\n"
     ]
    }
   ],
   "source": [
    "print(classification_report(y_test, pred_DTC))"
   ]
  },
  {
   "cell_type": "code",
   "execution_count": null,
   "metadata": {
    "colab": {
     "base_uri": "https://localhost:8080/",
     "height": 69
    },
    "executionInfo": {
     "elapsed": 1060,
     "status": "ok",
     "timestamp": 1602308761412,
     "user": {
      "displayName": "Barkha Verma",
      "photoUrl": "",
      "userId": "05873071836640075999"
     },
     "user_tz": -330
    },
    "id": "op20ShjrB-Gl",
    "outputId": "dd657177-3dd9-4eea-d3e7-6f3767abd51d"
   },
   "outputs": [
    {
     "name": "stdout",
     "output_type": "stream",
     "text": [
      "[[127  11]\n",
      " [ 13   9]]\n"
     ]
    },
    {
     "data": {
      "text/plain": [
       "0.85"
      ]
     },
     "execution_count": 136,
     "metadata": {
      "tags": []
     },
     "output_type": "execute_result"
    }
   ],
   "source": [
    "print(confusion_matrix(y_test, pred_DTC))\n",
    "accuracy_score(y_test,pred_DTC)"
   ]
  },
  {
   "cell_type": "markdown",
   "metadata": {
    "id": "YmWvAuD-C9JO"
   },
   "source": [
    "Naive bayes model is predicting good."
   ]
  }
 ],
 "metadata": {
  "colab": {
   "collapsed_sections": [],
   "name": "Wine Quality.ipynb",
   "provenance": []
  },
  "kernelspec": {
   "display_name": "Python 3",
   "language": "python",
   "name": "python3"
  },
  "language_info": {
   "codemirror_mode": {
    "name": "ipython",
    "version": 3
   },
   "file_extension": ".py",
   "mimetype": "text/x-python",
   "name": "python",
   "nbconvert_exporter": "python",
   "pygments_lexer": "ipython3",
   "version": "3.7.3"
  }
 },
 "nbformat": 4,
 "nbformat_minor": 1
}
